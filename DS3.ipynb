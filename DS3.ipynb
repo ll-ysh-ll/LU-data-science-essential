{
  "nbformat": 4,
  "nbformat_minor": 0,
  "metadata": {
    "colab": {
      "name": "DS3.ipynb",
      "provenance": [],
      "collapsed_sections": []
    },
    "kernelspec": {
      "name": "python3",
      "display_name": "Python 3"
    }
  },
  "cells": [
    {
      "cell_type": "markdown",
      "metadata": {
        "id": "ANcMApwPGnAZ"
      },
      "source": [
        "# **Question 1:**"
      ]
    },
    {
      "cell_type": "code",
      "metadata": {
        "id": "-KGuKwOboHCb",
        "outputId": "4ccca12c-2ab6-4534-f514-d99973d8b687",
        "colab": {
          "base_uri": "https://localhost:8080/"
        }
      },
      "source": [
        "import numpy as np\n",
        "arr = np.arange(2, 50, 3)\n",
        "print(arr)"
      ],
      "execution_count": null,
      "outputs": [
        {
          "output_type": "stream",
          "text": [
            "[ 2  5  8 11 14 17 20 23 26 29 32 35 38 41 44 47]\n"
          ],
          "name": "stdout"
        }
      ]
    },
    {
      "cell_type": "markdown",
      "metadata": {
        "id": "1Xtyjqb-GtMj"
      },
      "source": [
        "# **Question 2:**"
      ]
    },
    {
      "cell_type": "code",
      "metadata": {
        "id": "PZnVsDXy1gca",
        "outputId": "19c14821-1ec7-4b53-c9f5-5529a9ea28e6",
        "colab": {
          "base_uri": "https://localhost:8080/"
        }
      },
      "source": [
        "l1=[]\n",
        "l2=[]\n",
        "print(\"List 1\")\n",
        "\n",
        "for i in range(0,5):\n",
        "  k=int(input())\n",
        "  l1.append(k)\n",
        "print(\"List 2\")\n",
        "for i in range(0,5):\n",
        "  k=int(input())\n",
        "  l2.append(k)\n",
        "\n",
        "arr1 = np.array(l1)\n",
        "arr2 = np.array(l2)\n",
        "arr = np.concatenate((arr1, arr2))\n",
        "sorted = np.sort(arr)\n",
        "\n",
        "print(\"concated arry: \",arr)\n",
        "print(\"sorted array: \",sorted)"
      ],
      "execution_count": null,
      "outputs": [
        {
          "output_type": "stream",
          "text": [
            "List 1\n",
            "10\n",
            "20\n",
            "30\n",
            "40\n",
            "50\n",
            "List 2\n",
            "1\n",
            "5\n",
            "4\n",
            "3\n",
            "2\n",
            "concated arry:  [10 20 30 40 50  1  5  4  3  2]\n",
            "sorted array:  [ 1  2  3  4  5 10 20 30 40 50]\n"
          ],
          "name": "stdout"
        }
      ]
    },
    {
      "cell_type": "markdown",
      "metadata": {
        "id": "uLEMp5xuGyvj"
      },
      "source": [
        "# **Question 3:**"
      ]
    },
    {
      "cell_type": "code",
      "metadata": {
        "id": "kA6McRj476U5",
        "outputId": "0bb9fdc4-29ff-4d10-917d-3a8364d16636",
        "colab": {
          "base_uri": "https://localhost:8080/"
        }
      },
      "source": [
        "arr = np.array([[1,2,3],[1,3,5]])\n",
        "print(\"Dimensions: \", arr.ndim)\n",
        "print(\"Size of array: \", arr.size)"
      ],
      "execution_count": null,
      "outputs": [
        {
          "output_type": "stream",
          "text": [
            "Dimensions:  2\n",
            "Size of array:  6\n"
          ],
          "name": "stdout"
        }
      ]
    },
    {
      "cell_type": "markdown",
      "metadata": {
        "id": "YdXKP4s1G7vi"
      },
      "source": [
        "# **Question 4:**"
      ]
    },
    {
      "cell_type": "code",
      "metadata": {
        "id": "FANpuebR-Jyd",
        "outputId": "b61d142f-f7ef-4681-cccc-317e35963918",
        "colab": {
          "base_uri": "https://localhost:8080/"
        }
      },
      "source": [
        "arr = np.array([0, 1, 2, 3, 4, 5, 6, 7, 8, 9])\n",
        "arr.shape"
      ],
      "execution_count": null,
      "outputs": [
        {
          "output_type": "execute_result",
          "data": {
            "text/plain": [
              "(10,)"
            ]
          },
          "metadata": {
            "tags": []
          },
          "execution_count": 11
        }
      ]
    },
    {
      "cell_type": "code",
      "metadata": {
        "id": "vUo-uCgCAae9",
        "outputId": "9e7458bd-f610-4482-ae41-706a2cb6d296",
        "colab": {
          "base_uri": "https://localhost:8080/"
        }
      },
      "source": [
        "new_arr=arr[np.newaxis, :]\n",
        "new_arr.shape"
      ],
      "execution_count": null,
      "outputs": [
        {
          "output_type": "execute_result",
          "data": {
            "text/plain": [
              "(1, 10)"
            ]
          },
          "metadata": {
            "tags": []
          },
          "execution_count": 10
        }
      ]
    },
    {
      "cell_type": "code",
      "metadata": {
        "id": "jyp_XRCTHbpx",
        "outputId": "001a2f3f-b257-4c41-a8a1-f5ed1e3d4368",
        "colab": {
          "base_uri": "https://localhost:8080/"
        }
      },
      "source": [
        "arr = np.arange(10)\n",
        "arr.shape"
      ],
      "execution_count": null,
      "outputs": [
        {
          "output_type": "execute_result",
          "data": {
            "text/plain": [
              "(10,)"
            ]
          },
          "metadata": {
            "tags": []
          },
          "execution_count": 22
        }
      ]
    },
    {
      "cell_type": "code",
      "metadata": {
        "id": "9rhkrYUDHMAS",
        "outputId": "4d2a8644-204d-4764-c651-032c0a6da26e",
        "colab": {
          "base_uri": "https://localhost:8080/"
        }
      },
      "source": [
        "arr = np.expand_dims(arr, axis=0)\n",
        "arr.shape"
      ],
      "execution_count": null,
      "outputs": [
        {
          "output_type": "execute_result",
          "data": {
            "text/plain": [
              "(1, 10)"
            ]
          },
          "metadata": {
            "tags": []
          },
          "execution_count": 21
        }
      ]
    },
    {
      "cell_type": "markdown",
      "metadata": {
        "id": "T3zauWqEG_K-"
      },
      "source": [
        "# **Question 5:**"
      ]
    },
    {
      "cell_type": "code",
      "metadata": {
        "id": "7bscE2kYEX-U",
        "outputId": "ce1a0bde-e59c-4cbc-a42b-a57f4e84be06",
        "colab": {
          "base_uri": "https://localhost:8080/"
        }
      },
      "source": [
        "arr1 = np.square([1, 2, 3, 4, 5])\n",
        "arr2 = np.square([6, 7, 8, 9, 10])\n",
        "\n",
        "print(\"Horizontal Append :\", np.hstack((arr1, arr2)))\n",
        "print(\"Vertical Append :\", np.vstack((arr1, arr2)))"
      ],
      "execution_count": null,
      "outputs": [
        {
          "output_type": "stream",
          "text": [
            "Horizontal Append : [  1   4   9  16  25  36  49  64  81 100]\n",
            "Vertical Append : [[  1   4   9  16  25]\n",
            " [ 36  49  64  81 100]]\n"
          ],
          "name": "stdout"
        }
      ]
    },
    {
      "cell_type": "markdown",
      "metadata": {
        "id": "yW-tu37UHrZb"
      },
      "source": [
        "# **Question 6:**"
      ]
    },
    {
      "cell_type": "code",
      "metadata": {
        "id": "Nmt22AX9FTv9",
        "outputId": "9ca29d8f-aefd-4609-bd63-69cc3046bfcb",
        "colab": {
          "base_uri": "https://localhost:8080/"
        }
      },
      "source": [
        "arr= np.array([1, 4, 9, 16, 25, 1, 4, 2, 3, 2, 5, 6, 5, 7, 8, 10])\n",
        "\n",
        "unique, counts = np.unique(arr, return_counts=True)\n",
        "arr = np.asarray((unique, counts))\n",
        "arr"
      ],
      "execution_count": null,
      "outputs": [
        {
          "output_type": "execute_result",
          "data": {
            "text/plain": [
              "array([[ 1,  2,  3,  4,  5,  6,  7,  8,  9, 10, 16, 25],\n",
              "       [ 2,  2,  1,  2,  2,  1,  1,  1,  1,  1,  1,  1]])"
            ]
          },
          "metadata": {
            "tags": []
          },
          "execution_count": 19
        }
      ]
    },
    {
      "cell_type": "code",
      "metadata": {
        "id": "6eOQWvyfGetV"
      },
      "source": [
        ""
      ],
      "execution_count": null,
      "outputs": []
    }
  ]
}