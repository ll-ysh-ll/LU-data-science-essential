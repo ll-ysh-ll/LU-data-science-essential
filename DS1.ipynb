{
  "nbformat": 4,
  "nbformat_minor": 0,
  "metadata": {
    "colab": {
      "name": "DS1.ipynb",
      "provenance": []
    },
    "kernelspec": {
      "name": "python3",
      "display_name": "Python 3"
    }
  },
  "cells": [
    {
      "cell_type": "markdown",
      "metadata": {
        "id": "CJZSAjOzKFEz"
      },
      "source": [
        "## **Questions 1:**\n"
      ]
    },
    {
      "cell_type": "markdown",
      "metadata": {
        "id": "GcRNvy9CKgN8"
      },
      "source": [
        "## **B. RAINBOW**"
      ]
    },
    {
      "cell_type": "markdown",
      "metadata": {
        "id": "yV7TbeJGLLcm"
      },
      "source": [
        "# **Questions 2:**"
      ]
    },
    {
      "cell_type": "code",
      "metadata": {
        "id": "o-nJUz3xK0Xo",
        "outputId": "2e4d7871-d202-40e8-b2c7-e6e20e6f50c3",
        "colab": {
          "base_uri": "https://localhost:8080/"
        }
      },
      "source": [
        "print(\"LETS UPGRADE\")"
      ],
      "execution_count": null,
      "outputs": [
        {
          "output_type": "stream",
          "text": [
            "LETS UPGRADE\n"
          ],
          "name": "stdout"
        }
      ]
    },
    {
      "cell_type": "markdown",
      "metadata": {
        "id": "NB2SF6ynLshu"
      },
      "source": [
        "# **Questions 3:**"
      ]
    },
    {
      "cell_type": "code",
      "metadata": {
        "id": "noxo72yZK8tz",
        "outputId": "c05bfecb-9be2-4eed-dd84-258336907a92",
        "colab": {
          "base_uri": "https://localhost:8080/"
        }
      },
      "source": [
        "cost_price=float(input())\n",
        "selling_price=float(input())\n",
        "\n",
        "if cost_price<selling_price:\n",
        "  print(\"profit\")\n",
        "elif cost_price>selling_price:\n",
        "  print(\"loss\")\n",
        "else:\n",
        "  print(\"Neither\")"
      ],
      "execution_count": null,
      "outputs": [
        {
          "output_type": "stream",
          "text": [
            "20\n",
            "10\n",
            "loss\n"
          ],
          "name": "stdout"
        }
      ]
    },
    {
      "cell_type": "markdown",
      "metadata": {
        "id": "pCJGDoHCN2IW"
      },
      "source": [
        "## **Questions 4:**"
      ]
    },
    {
      "cell_type": "code",
      "metadata": {
        "id": "mIL5KoT1LETI",
        "outputId": "edb6d908-c0a1-4abf-db5f-8998771e612b",
        "colab": {
          "base_uri": "https://localhost:8080/"
        }
      },
      "source": [
        "print(int(input())*80)"
      ],
      "execution_count": null,
      "outputs": [
        {
          "output_type": "stream",
          "text": [
            "20\n",
            "1600\n"
          ],
          "name": "stdout"
        }
      ]
    },
    {
      "cell_type": "code",
      "metadata": {
        "id": "5mgqLYivLHhb"
      },
      "source": [
        ""
      ],
      "execution_count": null,
      "outputs": []
    }
  ]
}