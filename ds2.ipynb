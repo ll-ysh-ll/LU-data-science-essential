{
  "nbformat": 4,
  "nbformat_minor": 0,
  "metadata": {
    "colab": {
      "name": "ds2.ipynb",
      "provenance": []
    },
    "kernelspec": {
      "name": "python3",
      "display_name": "Python 3"
    }
  },
  "cells": [
    {
      "cell_type": "markdown",
      "metadata": {
        "id": "MCeMuV2HQhad"
      },
      "source": [
        "# **Questions 1:**"
      ]
    },
    {
      "cell_type": "code",
      "metadata": {
        "id": "QzNpMgL-Qp31",
        "outputId": "b0f56730-91f0-4177-c123-b71c1849f154",
        "colab": {
          "base_uri": "https://localhost:8080/"
        }
      },
      "source": [
        "l=[]\n",
        "i=0\n",
        "while i < 10:\n",
        "  k=int(input())\n",
        "  if k%2==0:\n",
        "      l.append(k)\n",
        "  i += 1\n",
        "\n"
      ],
      "execution_count": null,
      "outputs": [
        {
          "output_type": "stream",
          "text": [
            "1\n",
            "2\n",
            "3\n",
            "4\n",
            "5\n",
            "6\n",
            "7\n",
            "8\n",
            "9\n",
            "10\n"
          ],
          "name": "stdout"
        }
      ]
    },
    {
      "cell_type": "code",
      "metadata": {
        "id": "NuhVzF7RSmVS",
        "outputId": "2d4937ae-e9ce-4f42-e88a-5f223c696480",
        "colab": {
          "base_uri": "https://localhost:8080/"
        }
      },
      "source": [
        "l"
      ],
      "execution_count": null,
      "outputs": [
        {
          "output_type": "execute_result",
          "data": {
            "text/plain": [
              "[2, 4, 6, 8, 10]"
            ]
          },
          "metadata": {
            "tags": []
          },
          "execution_count": 14
        }
      ]
    },
    {
      "cell_type": "markdown",
      "metadata": {
        "id": "wh1JBfAyXvF0"
      },
      "source": [
        "# **Questions 2:**"
      ]
    },
    {
      "cell_type": "code",
      "metadata": {
        "id": "o7lyVCOIUn-8",
        "outputId": "30b09b9f-cff3-4940-ae38-c973fe3069a2",
        "colab": {
          "base_uri": "https://localhost:8080/"
        }
      },
      "source": [
        "print(\"Squares of 1 to 10: \")\n",
        "l=[x*x for x in range(1,11)]\n",
        "l"
      ],
      "execution_count": null,
      "outputs": [
        {
          "output_type": "stream",
          "text": [
            "Squares of 1 to 10: \n"
          ],
          "name": "stdout"
        },
        {
          "output_type": "execute_result",
          "data": {
            "text/plain": [
              "[1, 4, 9, 16, 25, 36, 49, 64, 81, 100]"
            ]
          },
          "metadata": {
            "tags": []
          },
          "execution_count": 17
        }
      ]
    },
    {
      "cell_type": "markdown",
      "metadata": {
        "id": "CcsMOgwoYjN1"
      },
      "source": [
        "# **Questions 3:**"
      ]
    },
    {
      "cell_type": "code",
      "metadata": {
        "id": "1YPQVl6pYnFE",
        "outputId": "431ed1ff-9069-42b2-e331-882e101de0cc",
        "colab": {
          "base_uri": "https://localhost:8080/"
        }
      },
      "source": [
        "n=int(input())\n",
        "d={x:x*x for x in range(1,n+1)}\n",
        "print(d)"
      ],
      "execution_count": null,
      "outputs": [
        {
          "output_type": "stream",
          "text": [
            "4\n",
            "{1: 1, 2: 4, 3: 9, 4: 16}\n"
          ],
          "name": "stdout"
        }
      ]
    },
    {
      "cell_type": "markdown",
      "metadata": {
        "id": "MUdwjZmChZ6k"
      },
      "source": [
        "# **Questions 4:**"
      ]
    },
    {
      "cell_type": "code",
      "metadata": {
        "id": "HBtwx4xBfG1g",
        "outputId": "75b4ca25-4ea5-4b62-abd0-eb125cfd8bcd",
        "colab": {
          "base_uri": "https://localhost:8080/"
        }
      },
      "source": [
        "pos = {\"x\":0,\"y\":0}\n",
        "n = int(input())\n",
        "for i in range (n):\n",
        "    move =  input().split(\" \") \n",
        "    if move[0].lower() == \"up\":\n",
        "        pos[\"y\"] += int(move[1])\n",
        "    elif move[0].lower() == \"down\":\n",
        "        pos[\"y\"] -= int(move[1])    \n",
        "    elif move[0].lower() == \"left\":\n",
        "        pos[\"x\"] -= int(move[1])    \n",
        "    elif move[0].lower() == \"right\":\n",
        "        pos[\"x\"] += int(move[1])\n",
        "print(int(round((pos[\"x\"]**2 + pos[\"y\"]**2)**0.5)))"
      ],
      "execution_count": null,
      "outputs": [
        {
          "output_type": "stream",
          "text": [
            "4\n",
            "down 5\n",
            "up 3\n",
            "left 2\n",
            "right 3\n",
            "2\n"
          ],
          "name": "stdout"
        }
      ]
    },
    {
      "cell_type": "code",
      "metadata": {
        "id": "e-nCJTVLm-UY"
      },
      "source": [
        ""
      ],
      "execution_count": null,
      "outputs": []
    }
  ]
}